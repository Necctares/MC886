{
  "nbformat": 4,
  "nbformat_minor": 0,
  "metadata": {
    "colab": {
      "name": "TF2.ipynb",
      "provenance": [],
      "collapsed_sections": []
    },
    "kernelspec": {
      "name": "python3",
      "display_name": "Python 3"
    }
  },
  "cells": [
    {
      "cell_type": "markdown",
      "metadata": {
        "id": "Cs9E_R5yD48u"
      },
      "source": [
        "# **Assignment \\#2**: Machine Learning MC886\n",
        "University of Campinas (UNICAMP), Institute of Computing (IC)\n",
        "\n",
        "Prof. Sandra Avila, 2020s2\n",
        "\n"
      ]
    },
    {
      "cell_type": "code",
      "metadata": {
        "id": "tFS9Oum_RJX9"
      },
      "source": [
        "# TODO: RA & Name \n",
        "print('RA1: 193400' + ' Alan Freitas Ribeiro')\n",
        "print('RA2: ' + 'Desistiu')"
      ],
      "execution_count": null,
      "outputs": []
    },
    {
      "cell_type": "markdown",
      "metadata": {
        "id": "IVGH2s7fD_03"
      },
      "source": [
        "## Objective \n",
        "\n",
        "Explore **classification techniques** (logistic regression & neural networks) and come up with the best possible model to the problem, avoiding overfitting. In particular, build an object recognition system to accurately classify images using the Fashion-MNIST dataset (https://github.com/zalandoresearch/fashion-mnist)."
      ]
    },
    {
      "cell_type": "markdown",
      "metadata": {
        "id": "r3XDZRGqEwsk"
      },
      "source": [
        "## Dataset\n",
        "\n",
        "Fashion-MNIST is a dataset of Zalando's article images, consisting of a training set of 60,000 examples and a test set of 10,000 examples. Each example is a 28x28 grayscale image, associated with a label from 10 classes.\n",
        "\n",
        "\n",
        "Each training and test example is assigned to one of the following labels:\n",
        "\n",
        "**Label \tDescription**\n",
        "- 0 \tt-shirt/top\n",
        "- 1 \ttrouser\n",
        "- 2 \tpullover\n",
        "- 3 \tdress\n",
        "- 4 \tcoat\n",
        "- 5 \tsandal\n",
        "- 6 \tshirt\n",
        "- 7 \tsneaker\n",
        "- 8 \tbag\n",
        "- 9 \tankle boot\n",
        "\n",
        "**Dataset Information:**\n",
        "\n",
        "- You should respect the following traininig/test split: 60,000 training examples, and 10,000 test examples. Avoid overfitting.\n",
        "- The data is available at: https://www.dropbox.com/s/qawunrav8ri0sp4/fashion-mnist-dataset.zip: 'train' folder (fashion-mnist_train.csv.zip) + 'test' folder (fashion-mnist_test.csv.zip)\t\n",
        "- Each row is a separate image. Column 1 is the class label. Remaining columns are pixel numbers (784 total). Each value is the darkness of the pixel (1 to 255). Dataset was converted to CSV with this script: https://pjreddie.com/projects/mnist-in-csv.\n"
      ]
    },
    {
      "cell_type": "markdown",
      "metadata": {
        "id": "kdSGS4brHnAi"
      },
      "source": [
        "## Deadline\n",
        "\n",
        "Monday, November 16th 7pm. \n",
        "\n",
        "Penalty policy for late submission: You are not encouraged to submit your assignment after due date. However, in case you did, your grade will be penalized as follows:\n",
        "- November 17th 7pm : grade * 0.75\n",
        "- November 18th 7pm : grade * 0.5\n",
        "- November 19th 7pm : grade * 0.25\n"
      ]
    },
    {
      "cell_type": "markdown",
      "metadata": {
        "id": "joN9pvZJIfW5"
      },
      "source": [
        "## Submission\n",
        "\n",
        "On Google Classroom, submit your Jupyter Notebook (in Portuguese or English).\n",
        "\n",
        "**This activity is NOT individual, it must be done in pairs (two-person group).**"
      ]
    },
    {
      "cell_type": "code",
      "metadata": {
        "id": "LtwYdO8FIKtK",
        "colab": {
          "base_uri": "https://localhost:8080/"
        },
        "outputId": "4276d550-7ae8-4211-a386-6029d3abcd1c"
      },
      "source": [
        "from google.colab import drive\n",
        "drive.mount('/content/drive')"
      ],
      "execution_count": null,
      "outputs": [
        {
          "output_type": "stream",
          "text": [
            "Mounted at /content/drive\n"
          ],
          "name": "stdout"
        }
      ]
    },
    {
      "cell_type": "code",
      "metadata": {
        "id": "3y0QxxH1KgE1"
      },
      "source": [
        "'''\n",
        "TODO: Load and preprocess your dataset. Plot graphics.\n",
        "'''\n",
        "\n",
        "import numpy as np\n",
        "import pandas as pd\n",
        "import matplotlib.colors\n",
        "import matplotlib.pyplot as plt\n",
        "\n",
        "import seaborn as sns\n",
        "\n",
        "from sklearn.preprocessing import OneHotEncoder\n",
        "from sklearn.metrics import confusion_matrix\n",
        "\n",
        "\n",
        "dados_treino = pd.read_csv(\"/content/drive/My Drive/Colab/fashion-mnist_train.csv\", sep=',')\n",
        "dados_teste = pd.read_csv(\"/content/drive/My Drive/Colab/fashion-mnist_train.csv\", sep=',')\n",
        "dados_treino = dados_treino.to_numpy()\n",
        "dados_teste = dados_teste.to_numpy()\n",
        "\n",
        "#Normaliza os dados.\n",
        "def normalizacao (data):\n",
        "  data = data.astype(float)\n",
        "  dados = data[:,1:]\n",
        "  num_colunas = dados.shape[1]\n",
        "  for i in range(num_colunas):\n",
        "    coluna_norm = dados[:,i]\n",
        "    media = coluna_norm.mean()\n",
        "    max_col = coluna_norm.max()\n",
        "    dados[:,i] = (dados[:,i]-media)/max_col\n",
        "  data[:,1:]=dados\n",
        "  return data\n",
        "\n",
        "#Função para One-hot encoding.\n",
        "def hot_encod(y, num_classes):\n",
        "  aux = np.zeros((num_classes,1))\n",
        "  aux[int(y)] = 1.0\n",
        "  return aux.T.astype(int)\n",
        "\n",
        "#Dados para o MLR\n",
        "dados_treino = normalizacao(dados_treino)\n",
        "dados_teste = normalizacao(dados_teste)\n",
        "\n",
        "#Dados para a rede neural\n",
        "#Dados de treino\n",
        "y = [hot_encod(y,10) for y in dados_treino[:,0]]\n",
        "x = dados_treino[:,1:]\n",
        "\n",
        "#Dados de teste\n",
        "y_teste = [hot_encod(yt,10) for yt in dados_teste[:,0]]\n",
        "x_teste = dados_teste[:,1:]"
      ],
      "execution_count": null,
      "outputs": []
    },
    {
      "cell_type": "markdown",
      "metadata": {
        "id": "aZgUH3bPGacp"
      },
      "source": [
        "## Activities\n",
        "\n",
        "1. (2 points) Perform Multinomial Logistic Regression (_i.e._, softmax regression). It is a generalization of Logistic Regression to the case where we want to handle multiple classes. **You should implement your solution**.\n"
      ]
    },
    {
      "cell_type": "code",
      "metadata": {
        "id": "D9cpdif9JxFR",
        "colab": {
          "base_uri": "https://localhost:8080/"
        },
        "outputId": "59721fd7-61b4-4f4c-8140-2b27d5fb570e"
      },
      "source": [
        "# TODO: Multinomial Logistic Regression. Implement your solution. You cannot use scikit-learn libraries.\n",
        "\n",
        "num_classes = 10\n",
        "num_features = 784\n",
        "#Inicia aleatoriamente o peso e o bias para a função de predição.\n",
        "peso = np.random.rand(num_classes, num_features)\n",
        "bias = np.random.rand(num_classes, 1)\n",
        "\n",
        "#Função para calcular porcentagem de acertos.\n",
        "def acertos(predicao, data):\n",
        "  acertos = 0\n",
        "  for i in range(len(predicao)):\n",
        "    if predicao[i] == data[i,0]:\n",
        "      acertos += 1\n",
        "  return ((acertos/len(predicao))*100)\n",
        "\n",
        "#Função de predição.\n",
        "def predlog(data,peso,bias):\n",
        "  features = data[:,1:]\n",
        "  logistica = np.array(np.empty([features.shape[0],peso.shape[0]]))\n",
        "  for i in range(features.shape[0]):\n",
        "    logistica[i] = (peso.dot(features[i].reshape(-1,1)) + bias).reshape(-1)\n",
        "  return logistica\n",
        "\n",
        "#Função para calcular a probabilidade.\n",
        "def prob(logistica):\n",
        "  prob = np.array(np.empty([logistica.shape[0],logistica.shape[1]]))\n",
        "  for i in range(logistica.shape[0]):\n",
        "    exponencial = np.exp(logistica[i])\n",
        "    soma = np.sum(exponencial)\n",
        "    prob[i] = exponencial/soma\n",
        "  return prob\n",
        "\n",
        "#Função para calcular Regressão Logistica.\n",
        "def reglog(data,peso,bias):\n",
        "  logistica = predlog(data,peso,bias)\n",
        "  probabilidade = prob(logistica)\n",
        "  resultado = np.empty(0)\n",
        "  for i in probabilidade:\n",
        "    resultado = np.append(resultado,np.argmax(i))\n",
        "  return resultado.astype(int), probabilidade\n",
        "\n",
        "#Função para calcular o custo.\n",
        "def custoreglog(data, probabilidade):\n",
        "  y = data[:,0].astype(int)\n",
        "  tam = y.shape[0]\n",
        "  log = -np.log(probabilidade[range(tam),y]+1e-9)\n",
        "  custoreglog = np.sum(log) / tam\n",
        "  return custoreglog\n",
        "\n",
        "#Função para treino com SGD.\n",
        "def sgdlog(data,peso,bias,epocas,learning_rate):\n",
        "  y = data[:,0].astype(int)\n",
        "  x = data[:,1:]\n",
        "  custo = np.array([])\n",
        "  for i in range(epocas):\n",
        "    _ , prob = reglog(data,peso,bias)\n",
        "    custo_temp = custoreglog(data,prob)\n",
        "    custo = np.append(custo,custo_temp)\n",
        "    prob[range(y.shape[0]),y] -= 1\n",
        "\n",
        "    p_grad = prob.T.dot(x)\n",
        "    b_grad = np.sum(prob,axis=0).reshape(-1,1)\n",
        "\n",
        "    peso -= (learning_rate*p_grad)\n",
        "    bias -= (learning_rate*b_grad)\n",
        "\n",
        "  return custo, peso, bias \n",
        "\n",
        "#Treinamento\n",
        "custo, peso_treinado, bias_treinado = sgdlog(dados_treino,peso,bias,100,1e-4)\n",
        "\n",
        "#Resultado final\n",
        "pred_final, prob_final = reglog(dados_teste,peso_treinado,bias_treinado)\n",
        "\n",
        "acertos = acertos(pred_final, dados_teste)\n",
        "\n",
        "print('Acerto usando os dados de teste: ', acertos, '%')"
      ],
      "execution_count": null,
      "outputs": [
        {
          "output_type": "stream",
          "text": [
            "Acerto usando os dados de teste:  79.21833333333333 %\n"
          ],
          "name": "stdout"
        }
      ]
    },
    {
      "cell_type": "code",
      "metadata": {
        "id": "TkmU8yR8_C_k",
        "colab": {
          "base_uri": "https://localhost:8080/",
          "height": 296
        },
        "outputId": "5e93d6ad-825c-4d25-b70f-8997583666d2"
      },
      "source": [
        "plt.xlabel('Epocas')\n",
        "plt.ylabel('Custo')\n",
        "plt.plot(custo)"
      ],
      "execution_count": null,
      "outputs": [
        {
          "output_type": "execute_result",
          "data": {
            "text/plain": [
              "[<matplotlib.lines.Line2D at 0x7fdef715f438>]"
            ]
          },
          "metadata": {
            "tags": []
          },
          "execution_count": 38
        },
        {
          "output_type": "display_data",
          "data": {
            "image/png": "[encoded data removed]",
            "text/plain": [
              "<Figure size 432x288 with 1 Axes>"
            ]
          },
          "metadata": {
            "tags": [],
            "needs_background": "light"
          }
        }
      ]
    },
    {
      "cell_type": "markdown",
      "metadata": {
        "id": "zBNZQNImKQeo"
      },
      "source": [
        "\n",
        "> What are the conclusions? (1-2 paragraphs)\n",
        "\n",
        "O desempenho foi perto do esperado tendo em vista que utilizamos apenas 100 epocas para rodar o algoritmo, chegamos a uma taxa de acerto de aproximadamente 79%. Usamos o metodo estocastico, onde obtivemos uma queda gradual do erro com uma certa estabilização apartir da epoca 40 como podemos notar no grafico acima, apresentando um certo ruido devido a estocasticidade do algoritmo.\n",
        "\n",
        "Porém encontramos algumas falhas durante sua execução, a mais notavel foi que para um learning rate maior que 1e-4, o algoritmo não convergia, havendo overflow. Tal fato pode ter sido causado pela alta diferença dos valores iniciais ao serem elevados a uma exponencial, necessitando assim, de uma correção numerica. Além disso, notamos um impacto consideravel na inicialização randomica dos pesos e bias, ao passo que, ao executarmos este algoritmo diversas vezes, obtivemos resultados diferentes, alguns, muito abaixo deste valor final encontrado, com o custo se estabilizando em um valor muito alto. (O pior resultado foi de aprox. 37% de acertos). \n",
        "\n"
      ]
    },
    {
      "cell_type": "markdown",
      "metadata": {
        "id": "XrPl7jKgJPW6"
      },
      "source": [
        "\n",
        "2. (6 points) Move on to Neural Networks, using _one_ or _two hidden layers_. **You should implement your solution** (weight & bias initialization, forward propagation, backward propagation, activation function, ...).\n"
      ]
    },
    {
      "cell_type": "code",
      "metadata": {
        "id": "GjGbg41PMHR9",
        "colab": {
          "base_uri": "https://localhost:8080/"
        },
        "outputId": "649ea0f4-3efe-4b18-a11c-377a32c34dfb"
      },
      "source": [
        "# TODO: Neural Network. Implement your solution. You cannot use scikit-learn libraries.\n",
        "\n",
        "num_hl = x.shape[1] #Numero de neuronios na camada escondida.\n",
        "\n",
        "np.random.seed(3772)\n",
        "peso_hl = np.random.rand(x.shape[1],num_hl)*((2.0/x.shape[1])**(0.5))\n",
        "peso_saida = np.random.rand(num_hl,y[0].shape[1])*((2.0/x.shape[1])**(0.5))\n",
        "bias_hl = np.random.rand(1)*((2.0/x.shape[1])**(0.5))\n",
        "bias_saida = np.random.rand(1)*((2.0/x.shape[1])**(0.5))\n",
        "\n",
        "#Funcao de acertos.\n",
        "def acertosneur(predicao, y):\n",
        "  acertos = 0\n",
        "  for i,j in zip(predicao,y):\n",
        "    if np.argmax(i) == np.argmax(j):\n",
        "      acertos += 1\n",
        "  return ((acertos/len(y))*100)\n",
        "\n",
        "#Função de ativação.\n",
        "def ativacao(camada):  \n",
        "  return (1 / (1+np.exp(-camada)))\n",
        "\n",
        "#Função derivada da ativação (Sigmoide).\n",
        "def der_ativ(camada):\n",
        "  return (ativacao(camada)*(1.0-ativacao(camada)))\n",
        "\n",
        "#Função forward propagation.\n",
        "def forwardprop(x,peso_hl,peso_saida, bias_hl, bias_saida):\n",
        "  hidden_layer = np.dot(x,peso_hl) + bias_hl\n",
        "  hidden_layer = ativacao(hidden_layer)\n",
        "  saida = np.dot(hidden_layer,peso_saida) + bias_saida\n",
        "  saida = ativacao(saida)\n",
        "  return hidden_layer, saida\n",
        "\n",
        "#Função back propagation.\n",
        "def backprop(x,y,peso_hl,peso_saida,bias_hl,bias_saida):\n",
        "  x = x.reshape((1,-1))\n",
        "  hidden_layer, saida = forwardprop(x,peso_hl,peso_saida,bias_hl,bias_saida)  \n",
        "\n",
        "  custo = (y-saida)**2\n",
        "  der_bias_saida = 2*(y-saida)*der_ativ(saida)\n",
        "  der_ps = hidden_layer.T.dot(der_bias_saida)\n",
        "  der_bias_hl = der_bias_saida.dot(peso_saida.T)*der_ativ(hidden_layer)\n",
        "  der_phl = x.T.dot(der_bias_hl)\n",
        "\n",
        "  return der_bias_saida.mean(), der_bias_hl.mean(), der_ps, der_phl, custo.sum()\n",
        "\n",
        "def sgdneur(x,y,peso_hl,peso_saida,bias_hl,bias_saida,epocas,learning_rate):\n",
        "  \n",
        "  custo = np.array([])\n",
        "\n",
        "  for i in range(epocas):\n",
        "    treino = zip(x,y)\n",
        "    for t in treino:\n",
        "      dbs, dbhl, dps, dphl, custo_temp = backprop(t[0],t[1],peso_hl,peso_saida,bias_hl,bias_saida)\n",
        "      custo = np.append(custo,custo_temp)\n",
        "\n",
        "      bias_saida -= learning_rate*dbs\n",
        "      bias_hl -= learning_rate*dbhl\n",
        "      peso_saida -= learning_rate*dps\n",
        "      peso_hl -= learning_rate*dphl\n",
        "\n",
        "  return bias_saida, bias_hl, peso_saida, peso_hl, custo\n",
        "\n",
        "#Treino\n",
        "bs,bhl,ps,phl,custo = sgdneur(x,y,peso_hl,peso_saida,bias_hl,bias_saida,10,1e-2)\n",
        "%store custo\n",
        "#Teste\n",
        "_, saida = forwardprop(x_teste,phl,ps, bhl, bs)\n",
        "%store saida\n",
        "print('Acertos com os dados de teste:', acertosneur(saida,y_teste), '%')"
      ],
      "execution_count": null,
      "outputs": [
        {
          "output_type": "stream",
          "text": [
            "Stored 'custo' (ndarray)\n",
            "Stored 'saida' (ndarray)\n",
            "Acertos com os dados de teste: 85.35166666666667 %\n"
          ],
          "name": "stdout"
        }
      ]
    },
    {
      "cell_type": "code",
      "metadata": {
        "id": "3h9BHmtFVQpK",
        "colab": {
          "base_uri": "https://localhost:8080/",
          "height": 296
        },
        "outputId": "e63d7cf0-129b-41b1-902a-fb77b5368518"
      },
      "source": [
        "custo_plt_1 = np.array([])\n",
        "j = 0\n",
        "for i in range(0,600000,6000):\n",
        "  custo_plt_1 = np.append(custo_plt_1, custo[i])\n",
        "  j += 1\n",
        "\n",
        "plt.xticks([0,20,40,60,80,100],['0','2','4','6','8','10'])\n",
        "plt.xlabel('Numero de Epocas')\n",
        "plt.ylabel('Custo')\n",
        "plt.plot(custo_plt_1)"
      ],
      "execution_count": null,
      "outputs": [
        {
          "output_type": "execute_result",
          "data": {
            "text/plain": [
              "[<matplotlib.lines.Line2D at 0x7f51cabbb320>]"
            ]
          },
          "metadata": {
            "tags": []
          },
          "execution_count": 44
        },
        {
          "output_type": "display_data",
          "data": {
            "image/png": "[encoded data removed]",
            "text/plain": [
              "<Figure size 432x288 with 1 Axes>"
            ]
          },
          "metadata": {
            "tags": [],
            "needs_background": "light"
          }
        }
      ]
    },
    {
      "cell_type": "markdown",
      "metadata": {
        "id": "ZUX0AraaNH-e"
      },
      "source": [
        "> What are the conclusions? Regarding the Multinomial Logistic Regression model, does the performance improve? (2-4 paragraphs)\n",
        "\n",
        "\n",
        "Rodamos o algoritmo final em 10 epocas, e conseguimos um resultado de 85% de acertos, além desta versão final, foi rodado o algoritmo com outras seeds de randomização e diminuimos/aumentamos o numero de epocas e o learning rate como teste. O resultado foi dentro da margem dos 80-85% de acerto, onde percebemos que o numero de epocas após 5, não influenciava muito no resultado, havia maior variação no resultado quando trocavamos de seed e os learning rate não influenciaram muito também, com os melhores resultados sendo obtidos com o learning rate de 1e-2 (foram escolhidos 1e-1,1e-2 e 1e-3).\n",
        "\n",
        "Podemos perceber esse comportamento no gráfico acima da versão final, onde o erro se estabiliza ao rodar 2 epocas apenas, tal comportamento se repetiu durante os testes. Tal fato pode ter ocorrido por não termos usado nesta versão otimizadores de descida do gradiente e o mesmo ter ficado ''preso'' em um minimo local que não era o de melhor otimização (global).\n",
        "\n",
        "A performace em comparação com o MLR foi melhor como o esperado, ao rodar 100 epocas no MLR chegamos a um acerto de 79% contra 85% com a rede neural. Porém, o custo de treinamento do MLR foi bem menor que a da rede neural, onde executamos 100 epocas em aproximadamente 5 minutos ao contrario da rede neural, que levou aprox. 50 minutos para executar 10 epocas, tais processos poderiam ser otimizados ao usarmos uma gpu, porém, não tivemos êxito em instalar o CuPy neste ambiente de execução.\n",
        "\n",
        "Além disso, alguns outros problemas encontrados no MLR não foram reproduzidos no algoritmo da rede neural, como a não convergencia para um learning rate acima de 1e-4 e o impacto sofrido com as inicializações randomicas, onde no MLR tinhamos variações as vezes muito bruscas ao passo que na rede neural a variação era bem pequena e não afetava muito o resultado. Sendo assim, podemos dizer que nosso algoritmo de rede neural possui uma melhor perfomace em comparação ao MLR, por ser mais estavel e apresentar uma taxa de acerto maior, mesmo apresentando um tempo de execução do treinamento bem maior."
      ]
    },
    {
      "cell_type": "markdown",
      "metadata": {
        "id": "ldSh1vtWK5Zk"
      },
      "source": [
        "3. (1 point) Apply two update rules used to optimize Neural Networks (for example, Momentum, Adagrad, Adam, RMSProp, Adadelta). For reference, see http://ruder.io/optimizing-gradient-descent."
      ]
    },
    {
      "cell_type": "code",
      "metadata": {
        "id": "mg7aNkl_LG4P",
        "colab": {
          "base_uri": "https://localhost:8080/"
        },
        "outputId": "4c70347c-4346-4185-b92d-a211076d1afa"
      },
      "source": [
        "# TODO: Apply two update rules used to optimize Neural Networks.\n",
        "\n",
        "num_hl = x.shape[1] #Numero de neuronios na camada escondida.\n",
        "\n",
        "np.random.seed(3772)\n",
        "peso_hl = np.random.rand(x.shape[1],num_hl)*((2.0/x.shape[1])**(0.5))\n",
        "peso_saida = np.random.rand(num_hl,y[0].shape[1])*((2.0/x.shape[1])**(0.5))\n",
        "bias_hl = np.random.rand(1)*((2.0/x.shape[1])**(0.5))\n",
        "bias_saida = np.random.rand(1)*((2.0/x.shape[1])**(0.5))\n",
        "\n",
        "#Funcao de acertos.\n",
        "def acertosneur(predicao, y):\n",
        "  acertos = 0\n",
        "  for i,j in zip(predicao,y):\n",
        "    if np.argmax(i) == np.argmax(j):\n",
        "      acertos += 1\n",
        "  return ((acertos/len(y))*100)\n",
        "\n",
        "#Função de ativação.\n",
        "def ativacao(camada):  \n",
        "  return (1 / (1+np.exp(-camada)))\n",
        "\n",
        "#Função derivada da ativação (Sigmoide).\n",
        "def der_ativ(camada):\n",
        "  return (ativacao(camada)*(1.0-ativacao(camada)))\n",
        "\n",
        "#Função forward propagation.\n",
        "def forwardprop(x,peso_hl,peso_saida, bias_hl, bias_saida):\n",
        "  hidden_layer = np.dot(x,peso_hl) + bias_hl\n",
        "  hidden_layer = ativacao(hidden_layer)\n",
        "  saida = np.dot(hidden_layer,peso_saida) + bias_saida\n",
        "  saida = ativacao(saida)\n",
        "  return hidden_layer, saida\n",
        "\n",
        "#Função back propagation.\n",
        "def backprop(x,y,peso_hl,peso_saida,bias_hl,bias_saida):\n",
        "  x = x.reshape((1,-1))\n",
        "  hidden_layer, saida = forwardprop(x,peso_hl,peso_saida,bias_hl,bias_saida)  \n",
        "\n",
        "  custo = (y-saida)**2\n",
        "  der_bias_saida = 2*(y-saida)*der_ativ(saida)\n",
        "  der_ps = hidden_layer.T.dot(der_bias_saida)\n",
        "  der_bias_hl = der_bias_saida.dot(peso_saida.T)*der_ativ(hidden_layer)\n",
        "  der_phl = x.T.dot(der_bias_hl)\n",
        "\n",
        "  return der_bias_saida.mean(), der_bias_hl.mean(), der_ps, der_phl, custo.sum()\n",
        "\n",
        "#Nesterov Acelerated Gradient\n",
        "def gdnesterov(x,y,peso_hl,peso_saida,bias_hl,bias_saida,epocas,learning_rate, gama=0.9):\n",
        "  \n",
        "  custo = np.array([])\n",
        "\n",
        "  for i in range(epocas):\n",
        "\n",
        "    #Randomiza as entradas x e y\n",
        "    rand_seed = np.random.get_state()\n",
        "    np.random.shuffle(x)\n",
        "    np.random.set_state(rand_seed)\n",
        "    np.random.shuffle(y)\n",
        "    treino = zip(x,y)\n",
        "\n",
        "    velocidade = np.array([np.zeros(bias_saida.shape),np.zeros(bias_hl.shape),np.zeros(peso_saida.shape),np.zeros(peso_hl.shape)])\n",
        "\n",
        "    for t in treino:\n",
        "      n_bs = bias_saida - gama*velocidade[0]\n",
        "      n_bhl = bias_hl - gama*velocidade[1]\n",
        "      n_ps = peso_saida - gama*velocidade[2]\n",
        "      n_phl = peso_hl - gama*velocidade[3]\n",
        "      \n",
        "      dbs, dbhl, dps, dphl, custo_temp = backprop(t[0],t[1],n_phl,n_ps,n_bhl,n_bs)\n",
        "      custo = np.append(custo,custo_temp)\n",
        "\n",
        "      velocidade[0] = gama*velocidade[0] + learning_rate*dbs\n",
        "      bias_saida -= velocidade[0]\n",
        "\n",
        "      velocidade[1] = gama*velocidade[1] + learning_rate*dbhl\n",
        "      bias_hl -= velocidade[1]\n",
        "\n",
        "      velocidade[2] = gama*velocidade[2] + learning_rate*dps\n",
        "      peso_saida -= velocidade[2]\n",
        "\n",
        "      velocidade[3] = gama*velocidade[3] + learning_rate*dphl\n",
        "      peso_hl -= velocidade[3]\n",
        "\n",
        "  return bias_saida, bias_hl, peso_saida, peso_hl, custo\n",
        "\n",
        "#Treino\n",
        "bs,bhl,ps,phl,custo_nesterov = gdnesterov(x,y,peso_hl,peso_saida,bias_hl,bias_saida,5,1e-2)\n",
        "%store custo_nesterov\n",
        "#Teste\n",
        "_, saida_nesterov = forwardprop(x_teste,phl,ps, bhl, bs)\n",
        "%store saida_nesterov\n",
        "print('Acertos com os dados de teste:', acertosneur(saida_nesterov,y_teste), '%')"
      ],
      "execution_count": null,
      "outputs": [
        {
          "output_type": "stream",
          "text": [
            "Stored 'custo_nesterov' (ndarray)\n",
            "Stored 'saida_nesterov' (ndarray)\n",
            "Acertos com os dados de teste: 85.49 %\n"
          ],
          "name": "stdout"
        }
      ]
    },
    {
      "cell_type": "code",
      "metadata": {
        "id": "fXMhfNtgsX_v",
        "colab": {
          "base_uri": "https://localhost:8080/",
          "height": 265
        },
        "outputId": "6884f41b-c673-4a98-e28b-6944bdca0c2c"
      },
      "source": [
        "custo_plt_1 = np.array([])\n",
        "j = 0\n",
        "for i in range(0,300000,6000):\n",
        "  custo_plt_1 = np.append(custo_plt_1, custo[i])\n",
        "  j += 1\n",
        "\n",
        "custo_plt_2 = np.array([])\n",
        "j = 0\n",
        "for i in range(0,300000,6000):\n",
        "  custo_plt_2 = np.append(custo_plt_2, custo[i])\n",
        "  j += 1\n",
        "\n",
        "fig, grap = plt.subplots()\n",
        "plt.xticks([0,20,40,60,80,100],['0','2','4','6','8','10'])\n",
        "grap.plot(custo_plt_1, label='Custo SGD')\n",
        "grap.plot(custo_plt_2, 'ro', markersize='3', label='Custo Nesterov')\n",
        "leg = grap.legend()"
      ],
      "execution_count": null,
      "outputs": [
        {
          "output_type": "display_data",
          "data": {
            "image/png": "[encoded data removed]",
            "text/plain": [
              "<Figure size 432x288 with 1 Axes>"
            ]
          },
          "metadata": {
            "tags": [],
            "needs_background": "light"
          }
        }
      ]
    },
    {
      "cell_type": "markdown",
      "metadata": {
        "id": "rBLKtosaLaCw"
      },
      "source": [
        " > What are the conclusions? Does the performance improve? (1-2 paragraphs)\n",
        "\n",
        " Neste algoritmo, implementamos o embaralhamento dos dados para evitar o enviesamento. Para a otimização de descida do gradiente, primeiramente tentamos implementar o Adadelta, porém não conseguimos uma boa otimização (o algoritmo levou muito tempo para executar apenas uma epoca com os dados de treino), então, decidimos trocar para um mais simples e implementamos o Nesterov.\n",
        "\n",
        " Como o Nesterov é um algoritmo de aceleração ao SGD, caimos no mesmo problema do algoritmo anterior, onde possivelmente ficamos \"preso\" em um minimo local e não conseguimos seguir adiante, contribuindo para um resultado negativo. A performance não aumentou, e o custo de execução aumentou bastante, de modo que, tivemos que executar apenas 5 epocas para que o algoritmo rodasse em 50 minutos como o anterior, em que foram rodadas 10 epocas, desta vez, escolhemos os learning rates de 1e-2 e 1e-3 para testes, sendo que os dois apresentaram o mesmo problema, como a execução foi bem demorada, não testamos learning rates maiores para tentar achar um que melhor se encaixasse com o algoritmo.\n"
      ]
    },
    {
      "cell_type": "markdown",
      "metadata": {
        "id": "ADxPBRhuK_Vq"
      },
      "source": [
        "4. (1 point) Pick **your best model** and plot the confusion matrix in the **test set**. You can use scikit-learn libraries.\n"
      ]
    },
    {
      "cell_type": "code",
      "metadata": {
        "id": "RSZ1pLItNVbU",
        "colab": {
          "base_uri": "https://localhost:8080/",
          "height": 543
        },
        "outputId": "65f746c2-87a3-4872-abbf-abf027f5f9d1"
      },
      "source": [
        "# TODO: Plot the confusion matrix. You can use scikit-learn libraries.\n",
        "\n",
        "y_pred = np.array([])\n",
        "for i in saida:\n",
        "  y_pred = np.append(y_saida,np.argmax(i))\n",
        "\n",
        "y_verdade = np.array([])\n",
        "for i in y_teste:\n",
        "  y_verdade = np.append(y_verdade,np.argmax(i))\n",
        "\n",
        "\n",
        "labels = ['camiseta','calca','pulover','vestido','casaco','sandalia','camisa','sapato','bolsa','bota']\n",
        "c_m = confusion_matrix(y_verdade, y_saida)\n",
        "\n",
        "figura = plt.figure(figsize=(10,9))\n",
        "axis = figura.add_subplot(111)\n",
        "caxis = axis.matshow(c_m)\n",
        "plt.title('Matriz de Confusão: Rede Neural Simples (item 2)')\n",
        "figura.colorbar(caxis)\n",
        "plt.xticks([0,1,2,3,4,5,6,7,8,9],labels)\n",
        "plt.yticks([0,1,2,3,4,5,6,7,8,9],labels)\n",
        "plt.xlabel('Predição')\n",
        "plt.ylabel('Esperado')\n",
        "plt.show()"
      ],
      "execution_count": null,
      "outputs": [
        {
          "output_type": "display_data",
          "data": {
            "image/png": "[encoded data removed]",
            "text/plain": [
              "<Figure size 720x648 with 2 Axes>"
            ]
          },
          "metadata": {
            "tags": [],
            "needs_background": "light"
          }
        }
      ]
    },
    {
      "cell_type": "markdown",
      "metadata": {
        "id": "vbGOQzcsNSOm"
      },
      "source": [
        "> What are the conclusions? (1-2 paragraphs)\n",
        "\n",
        "\n",
        "Para a matriz de confusão, usamos o segundo modelo (Rede Neural Simples), analisando a matriz, percebemos que o desempenho do algoritmo foi aceitavel, a medida que identificamos que a maior parte dos erros/confusões estão concentrados em objetos parecidos, como por exemplo, Camisa e Camiseta, Pulover e Camisa, Pulover e casaco, sapato e sandalia, casaco e camisa. Vale notar também, que o item que mais se difere dos outros, a bolsa, teve uma taxa de erro de predição quase nula.\n",
        "\n",
        "Sendo assim, considerando que este algoritmo foi pouco otimizado, o desempenho foi bem satisfatorio. Um possivel proximo passo para a melhora deste algoritmo consistiria em desenvolver uma forma de melhor diferenciar objetos mais parecidos que tiveram as maiores taxas de erro como os casos da Camisa/Pulover e Pulover/Casaco."
      ]
    }
  ]
}